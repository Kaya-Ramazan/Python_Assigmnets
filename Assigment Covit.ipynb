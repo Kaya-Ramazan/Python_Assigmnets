age = input('Are you  a cigarette addict older than 75 years old? Response : (Yes/No) ').title().strip() == 'Yes'
chronic = input('Do you have a severe chronic disease? Response : (Yes/No) ').title().strip() == 'Yes' 
immune = input('Is your immune system too weak? Response : (Yes/No) ').title().strip() == 'Yes'
if age or chronic or immune == 'Yes' : 
    print('You are in risky group')
else :
    print('You are not in risky group')
