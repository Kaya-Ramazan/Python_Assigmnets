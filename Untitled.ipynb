{
 "cells": [
  {
   "cell_type": "code",
   "execution_count": 6,
   "id": "0a210329",
   "metadata": {},
   "outputs": [
    {
     "data": {
      "text/plain": [
       "12"
      ]
     },
     "execution_count": 6,
     "metadata": {},
     "output_type": "execute_result"
    }
   ],
   "source": [
    "def my_sum(*num):\n",
    "    return(sum(num))\n",
    "\n",
    "my_sum(9,1,3,0,-1)"
   ]
  },
  {
   "cell_type": "code",
   "execution_count": 9,
   "id": "a935c0ad",
   "metadata": {},
   "outputs": [
    {
     "data": {
      "text/plain": [
       "24"
      ]
     },
     "execution_count": 9,
     "metadata": {},
     "output_type": "execute_result"
    }
   ],
   "source": [
    "def factorial(n):\n",
    "    if n == 0 :\n",
    "        return 1\n",
    "    else :\n",
    "        return n * factorial(n-1)\n",
    "factorial(4)"
   ]
  },
  {
   "cell_type": "code",
   "execution_count": 11,
   "id": "8e40c812",
   "metadata": {},
   "outputs": [
    {
     "name": "stdout",
     "output_type": "stream",
     "text": [
      "3\n",
      "4\n",
      "5\n"
     ]
    }
   ],
   "source": [
    "x = range(3,6)\n",
    "for n in x :\n",
    "    print(n)"
   ]
  },
  {
   "cell_type": "code",
   "execution_count": 34,
   "id": "24e7faf7",
   "metadata": {},
   "outputs": [
    {
     "name": "stdout",
     "output_type": "stream",
     "text": [
      "120\n"
     ]
    }
   ],
   "source": [
    "def fact(n):\n",
    "    if n ==0:\n",
    "        return 1\n",
    "    if n>0:\n",
    "        return n*fact(n-1)\n",
    "print(fact(5))         "
   ]
  },
  {
   "cell_type": "code",
   "execution_count": 29,
   "id": "cab13365",
   "metadata": {},
   "outputs": [],
   "source": [
    "x = range(3, 20)"
   ]
  },
  {
   "cell_type": "code",
   "execution_count": 30,
   "id": "3f73ffb6",
   "metadata": {},
   "outputs": [
    {
     "name": "stdout",
     "output_type": "stream",
     "text": [
      "3 4 5 6 7 8 9 10 11 12 13 14 15 16 17 18 19\n"
     ]
    }
   ],
   "source": [
    "print(*x)"
   ]
  },
  {
   "cell_type": "code",
   "execution_count": 40,
   "id": "7bcdd86b",
   "metadata": {},
   "outputs": [
    {
     "data": {
      "text/plain": [
       "6"
      ]
     },
     "execution_count": 40,
     "metadata": {},
     "output_type": "execute_result"
    }
   ],
   "source": [
    "def my_fact(n):\n",
    "    if n ==0:\n",
    "        return 1\n",
    "    if n>0:\n",
    "        return n*fact(n-1)\n",
    "my_fact(5)\n",
    "my_fact(4)\n",
    "my_fact(3)"
   ]
  },
  {
   "cell_type": "code",
   "execution_count": null,
   "id": "7f562673",
   "metadata": {},
   "outputs": [],
   "source": [
    "Assignment-008/9 (Letters Count)\n",
    "\n"
   ]
  },
  {
   "cell_type": "code",
   "execution_count": 43,
   "id": "76442c7c",
   "metadata": {},
   "outputs": [],
   "source": [
    "def counter(n):\n",
    "    sentence = list(str(input(\"Enter a sentence : \")))\n",
    "    n = sentence.split()\n",
    "    if n in sentence :\n",
    "        print(count(n))\n",
    "    else :\n",
    "        \n",
    "        \n",
    "        \n",
    "        \n",
    "    "
   ]
  },
  {
   "cell_type": "code",
   "execution_count": 41,
   "id": "b7267106",
   "metadata": {},
   "outputs": [
    {
     "data": {
      "text/plain": [
       "['R', 'a', 'm', 'a', 'z', 'a', 'n']"
      ]
     },
     "execution_count": 41,
     "metadata": {},
     "output_type": "execute_result"
    }
   ],
   "source": [
    "list(str(\"Ramazan\"))"
   ]
  },
  {
   "cell_type": "code",
   "execution_count": 48,
   "id": "57456e45",
   "metadata": {},
   "outputs": [
    {
     "data": {
      "text/plain": [
       "1"
      ]
     },
     "execution_count": 48,
     "metadata": {},
     "output_type": "execute_result"
    }
   ],
   "source": [
    "def count_letters(word, char):\n",
    "    count = 0\n",
    "    while count <= len(word):\n",
    "        for char in word:\n",
    "            if char == word[count]:\n",
    "                count += 1\n",
    "            return count\n",
    "\n",
    "\n",
    "\n",
    "count_letters(\"hippo runs to us!\",n)"
   ]
  },
  {
   "cell_type": "code",
   "execution_count": 2,
   "id": "3f84b7d8",
   "metadata": {},
   "outputs": [
    {
     "data": {
      "text/plain": [
       "0"
      ]
     },
     "execution_count": 2,
     "metadata": {},
     "output_type": "execute_result"
    }
   ],
   "source": [
    "def count_letters(word, char):\n",
    "    return len([c for c in word if c == char])\n",
    "\n",
    "count_letters(\"hippo runs to us!\",\"c\")"
   ]
  },
  {
   "cell_type": "code",
   "execution_count": 4,
   "id": "a1c0e343",
   "metadata": {},
   "outputs": [
    {
     "ename": "TypeError",
     "evalue": "countLetter() missing 1 required positional argument: 'letter'",
     "output_type": "error",
     "traceback": [
      "\u001b[1;31m---------------------------------------------------------------------------\u001b[0m",
      "\u001b[1;31mTypeError\u001b[0m                                 Traceback (most recent call last)",
      "\u001b[1;32m<ipython-input-4-3379b9a3228c>\u001b[0m in \u001b[0;36m<module>\u001b[1;34m\u001b[0m\n\u001b[0;32m      2\u001b[0m     \u001b[1;32mreturn\u001b[0m \u001b[0mword\u001b[0m\u001b[1;33m.\u001b[0m\u001b[0mcount\u001b[0m\u001b[1;33m(\u001b[0m\u001b[0mletter\u001b[0m\u001b[1;33m)\u001b[0m\u001b[1;33m\u001b[0m\u001b[1;33m\u001b[0m\u001b[0m\n\u001b[0;32m      3\u001b[0m \u001b[1;33m\u001b[0m\u001b[0m\n\u001b[1;32m----> 4\u001b[1;33m \u001b[0mcountLetter\u001b[0m\u001b[1;33m(\u001b[0m\u001b[1;34m\"hippo runs to us!\"\u001b[0m\u001b[1;33m)\u001b[0m\u001b[1;33m\u001b[0m\u001b[1;33m\u001b[0m\u001b[0m\n\u001b[0m",
      "\u001b[1;31mTypeError\u001b[0m: countLetter() missing 1 required positional argument: 'letter'"
     ]
    }
   ],
   "source": [
    "def countLetter(word, letter):\n",
    "    return word.count(letter)\n",
    "\n",
    "countLetter(\"hippo runs to us!\")"
   ]
  },
  {
   "cell_type": "code",
   "execution_count": 6,
   "id": "ac1b22d5",
   "metadata": {},
   "outputs": [
    {
     "name": "stdout",
     "output_type": "stream",
     "text": [
      "Enter a word : hey\n",
      "0\n",
      "0\n",
      "0\n",
      "0\n",
      "1\n",
      "0\n",
      "0\n",
      "1\n",
      "0\n",
      "0\n",
      "0\n",
      "0\n",
      "0\n",
      "0\n",
      "0\n",
      "0\n",
      "0\n",
      "0\n",
      "0\n",
      "0\n",
      "0\n",
      "0\n",
      "0\n",
      "0\n",
      "1\n",
      "0\n"
     ]
    }
   ],
   "source": [
    "word = input(\"Enter a word : \")\n",
    "\n",
    "Alphabet=['a','b','c','d','e','f','g','h','i','j','k','l','m','n','o','p','q','r','s','t','u','v','w','x','y','z']\n",
    "\n",
    "for i in range(0,26):\n",
    "    print(word.count(Alphabet[i]))"
   ]
  },
  {
   "cell_type": "code",
   "execution_count": 11,
   "id": "e5211e4c",
   "metadata": {},
   "outputs": [
    {
     "name": "stdout",
     "output_type": "stream",
     "text": [
      "h 1\n",
      "i 1\n",
      "p 2\n",
      "p 2\n",
      "o 2\n",
      "  3\n",
      "r 1\n",
      "u 2\n",
      "n 1\n",
      "s 2\n",
      "  3\n",
      "t 1\n",
      "o 2\n",
      "  3\n",
      "u 2\n",
      "s 2\n",
      "! 1\n"
     ]
    }
   ],
   "source": [
    "from collections import Counter\n",
    "counts=Counter(word) # Counter({'l': 2, 'H': 1, 'e': 1, 'o': 1})\n",
    "for i in word:\n",
    "    print(i,counts[i])\n",
    "word = \"hippo runs to us!\"    "
   ]
  },
  {
   "cell_type": "code",
   "execution_count": null,
   "id": "57a1ccf2",
   "metadata": {},
   "outputs": [],
   "source": [
    "hippo runs to us!"
   ]
  }
 ],
 "metadata": {
  "kernelspec": {
   "display_name": "Python 3",
   "language": "python",
   "name": "python3"
  },
  "language_info": {
   "codemirror_mode": {
    "name": "ipython",
    "version": 3
   },
   "file_extension": ".py",
   "mimetype": "text/x-python",
   "name": "python",
   "nbconvert_exporter": "python",
   "pygments_lexer": "ipython3",
   "version": "3.8.8"
  }
 },
 "nbformat": 4,
 "nbformat_minor": 5
}
