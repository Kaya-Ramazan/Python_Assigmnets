number = int(input("Enter a number : "))
if number > 1:
    for i in range(number):
        if (number != 2 and number!= 3 and number!= 5) and ((number % 3 == 0) or ( number % 2 ==0) or (number % 5 == 0)):
            print( "{} is not prime number".format(number))
            break
    else:
        print("{} is prime number".format(number))
